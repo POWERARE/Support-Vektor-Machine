{
 "cells": [
  {
   "cell_type": "markdown",
   "id": "f650a8b5",
   "metadata": {},
   "source": [
    "# SVM : HARD MARGIN\n",
    "created by Khoirul Romadhony (POWERARE)"
   ]
  },
  {
   "cell_type": "code",
   "execution_count": null,
   "id": "e702068b",
   "metadata": {},
   "outputs": [],
   "source": [
    "import numpy as np\n",
    "import pandas as pd\n",
    "# from succinctly.datasets import get_dataset, linearly_separable as ls\n",
    "\n",
    "# X, y = get_dataset(ls.get_training_examples)\n",
    "X = np.array([[8, 7], [4, 10], [9, 7], [7, 10], [9, 6], [4, 8],\n",
    "               [10, 10], [2, 7], [8, 3], [7, 5], [4, 4], [4, 6],\n",
    "               [1, 3], [2, 5]])\n",
    "y = np.array([1.,  1.,  1.,  1.,  1.,  1.,  1., -1., -1., -1., -1., -1., -1.,\n",
    "             -1.])\n",
    "\n",
    "data = pd.DataFrame(X,y)"
   ]
  },
  {
   "cell_type": "code",
   "execution_count": 2,
   "id": "ad6059e2",
   "metadata": {},
   "outputs": [],
   "source": [
    "m = X.shape[0]"
   ]
  },
  {
   "cell_type": "code",
   "execution_count": 3,
   "id": "d505d9c5",
   "metadata": {},
   "outputs": [],
   "source": [
    "import cvxopt.solvers\n",
    "# Gram matrix - The matrix of all possible inner products of X.\n",
    "K = np.array([np.dot(X[i], X[j])\n",
    "              for j in range(m)\n",
    "              for i in range(m)]).reshape((m, m))\n",
    "\n",
    "P = cvxopt.matrix(np.outer(y, y) * K)\n",
    "q = cvxopt.matrix(-1 * np.ones(m))"
   ]
  },
  {
   "cell_type": "code",
   "execution_count": 4,
   "id": "5d31a1eb",
   "metadata": {},
   "outputs": [],
   "source": [
    "# Equality constraints\n",
    "A = cvxopt.matrix(y, (1, m))\n",
    "b = cvxopt.matrix(0.0)"
   ]
  },
  {
   "cell_type": "code",
   "execution_count": 5,
   "id": "5fafa593",
   "metadata": {},
   "outputs": [],
   "source": [
    "# Inequality constraints\n",
    "G = cvxopt.matrix(np.diag(-1 * np.ones(m)))\n",
    "h = cvxopt.matrix(np.zeros(m))"
   ]
  },
  {
   "cell_type": "code",
   "execution_count": 6,
   "id": "6488ad53",
   "metadata": {},
   "outputs": [
    {
     "name": "stdout",
     "output_type": "stream",
     "text": [
      "     pcost       dcost       gap    pres   dres\n",
      " 0: -3.9356e+00 -7.2072e+00  4e+01  6e+00  2e+00\n",
      " 1: -5.9831e+00 -4.3032e+00  1e+01  2e+00  6e-01\n",
      " 2: -5.6350e-01 -1.1535e+00  2e+00  1e-01  4e-02\n",
      " 3: -6.2758e-01 -7.4538e-01  1e-01  2e-16  9e-15\n",
      " 4: -7.1507e-01 -7.1641e-01  1e-03  1e-16  1e-14\n",
      " 5: -7.1604e-01 -7.1605e-01  1e-05  2e-16  6e-15\n",
      " 6: -7.1605e-01 -7.1605e-01  1e-07  2e-16  9e-15\n",
      "Optimal solution found.\n"
     ]
    }
   ],
   "source": [
    "# Solve the problem\n",
    "solution = cvxopt.solvers.qp(P, q, G, h, A, b)"
   ]
  },
  {
   "cell_type": "code",
   "execution_count": 7,
   "id": "47dae62f",
   "metadata": {},
   "outputs": [],
   "source": [
    "# Lagrange multipliers\n",
    "multipliers = np.ravel(solution['x'])"
   ]
  },
  {
   "cell_type": "code",
   "execution_count": 8,
   "id": "8bec0058",
   "metadata": {},
   "outputs": [
    {
     "data": {
      "text/html": [
       "<div>\n",
       "<style scoped>\n",
       "    .dataframe tbody tr th:only-of-type {\n",
       "        vertical-align: middle;\n",
       "    }\n",
       "\n",
       "    .dataframe tbody tr th {\n",
       "        vertical-align: top;\n",
       "    }\n",
       "\n",
       "    .dataframe thead th {\n",
       "        text-align: right;\n",
       "    }\n",
       "</style>\n",
       "<table border=\"1\" class=\"dataframe\">\n",
       "  <thead>\n",
       "    <tr style=\"text-align: right;\">\n",
       "      <th></th>\n",
       "      <th>0</th>\n",
       "    </tr>\n",
       "  </thead>\n",
       "  <tbody>\n",
       "    <tr>\n",
       "      <th>0</th>\n",
       "      <td>3.222392e-09</td>\n",
       "    </tr>\n",
       "    <tr>\n",
       "      <th>1</th>\n",
       "      <td>1.126651e-09</td>\n",
       "    </tr>\n",
       "    <tr>\n",
       "      <th>2</th>\n",
       "      <td>2.622019e-09</td>\n",
       "    </tr>\n",
       "    <tr>\n",
       "      <th>3</th>\n",
       "      <td>3.003465e-09</td>\n",
       "    </tr>\n",
       "    <tr>\n",
       "      <th>4</th>\n",
       "      <td>2.645052e-01</td>\n",
       "    </tr>\n",
       "    <tr>\n",
       "      <th>5</th>\n",
       "      <td>4.515442e-01</td>\n",
       "    </tr>\n",
       "    <tr>\n",
       "      <th>6</th>\n",
       "      <td>5.628814e-09</td>\n",
       "    </tr>\n",
       "    <tr>\n",
       "      <th>7</th>\n",
       "      <td>2.540133e-01</td>\n",
       "    </tr>\n",
       "    <tr>\n",
       "      <th>8</th>\n",
       "      <td>3.145946e-09</td>\n",
       "    </tr>\n",
       "    <tr>\n",
       "      <th>9</th>\n",
       "      <td>4.620360e-01</td>\n",
       "    </tr>\n",
       "    <tr>\n",
       "      <th>10</th>\n",
       "      <td>2.045967e-09</td>\n",
       "    </tr>\n",
       "    <tr>\n",
       "      <th>11</th>\n",
       "      <td>3.982638e-08</td>\n",
       "    </tr>\n",
       "    <tr>\n",
       "      <th>12</th>\n",
       "      <td>5.671716e-09</td>\n",
       "    </tr>\n",
       "    <tr>\n",
       "      <th>13</th>\n",
       "      <td>2.207059e-09</td>\n",
       "    </tr>\n",
       "  </tbody>\n",
       "</table>\n",
       "</div>"
      ],
      "text/plain": [
       "               0\n",
       "0   3.222392e-09\n",
       "1   1.126651e-09\n",
       "2   2.622019e-09\n",
       "3   3.003465e-09\n",
       "4   2.645052e-01\n",
       "5   4.515442e-01\n",
       "6   5.628814e-09\n",
       "7   2.540133e-01\n",
       "8   3.145946e-09\n",
       "9   4.620360e-01\n",
       "10  2.045967e-09\n",
       "11  3.982638e-08\n",
       "12  5.671716e-09\n",
       "13  2.207059e-09"
      ]
     },
     "execution_count": 8,
     "metadata": {},
     "output_type": "execute_result"
    }
   ],
   "source": [
    "pd.DataFrame(multipliers)"
   ]
  },
  {
   "cell_type": "code",
   "execution_count": 9,
   "id": "a6126597",
   "metadata": {},
   "outputs": [],
   "source": [
    "# Support vectors have positive multipliers.\n",
    "has_positive_multiplier = multipliers > 1e-7\n",
    "sv_multipliers = multipliers[has_positive_multiplier]\n",
    "\n",
    "support_vectors = X[has_positive_multiplier]\n",
    "support_vectors_y = y[has_positive_multiplier]"
   ]
  },
  {
   "cell_type": "code",
   "execution_count": 10,
   "id": "2e5b4afd",
   "metadata": {},
   "outputs": [
    {
     "data": {
      "text/html": [
       "<div>\n",
       "<style scoped>\n",
       "    .dataframe tbody tr th:only-of-type {\n",
       "        vertical-align: middle;\n",
       "    }\n",
       "\n",
       "    .dataframe tbody tr th {\n",
       "        vertical-align: top;\n",
       "    }\n",
       "\n",
       "    .dataframe thead th {\n",
       "        text-align: right;\n",
       "    }\n",
       "</style>\n",
       "<table border=\"1\" class=\"dataframe\">\n",
       "  <thead>\n",
       "    <tr style=\"text-align: right;\">\n",
       "      <th></th>\n",
       "      <th>0</th>\n",
       "    </tr>\n",
       "  </thead>\n",
       "  <tbody>\n",
       "    <tr>\n",
       "      <th>0</th>\n",
       "      <td>False</td>\n",
       "    </tr>\n",
       "    <tr>\n",
       "      <th>1</th>\n",
       "      <td>False</td>\n",
       "    </tr>\n",
       "    <tr>\n",
       "      <th>2</th>\n",
       "      <td>False</td>\n",
       "    </tr>\n",
       "    <tr>\n",
       "      <th>3</th>\n",
       "      <td>False</td>\n",
       "    </tr>\n",
       "    <tr>\n",
       "      <th>4</th>\n",
       "      <td>True</td>\n",
       "    </tr>\n",
       "    <tr>\n",
       "      <th>5</th>\n",
       "      <td>True</td>\n",
       "    </tr>\n",
       "    <tr>\n",
       "      <th>6</th>\n",
       "      <td>False</td>\n",
       "    </tr>\n",
       "    <tr>\n",
       "      <th>7</th>\n",
       "      <td>True</td>\n",
       "    </tr>\n",
       "    <tr>\n",
       "      <th>8</th>\n",
       "      <td>False</td>\n",
       "    </tr>\n",
       "    <tr>\n",
       "      <th>9</th>\n",
       "      <td>True</td>\n",
       "    </tr>\n",
       "    <tr>\n",
       "      <th>10</th>\n",
       "      <td>False</td>\n",
       "    </tr>\n",
       "    <tr>\n",
       "      <th>11</th>\n",
       "      <td>False</td>\n",
       "    </tr>\n",
       "    <tr>\n",
       "      <th>12</th>\n",
       "      <td>False</td>\n",
       "    </tr>\n",
       "    <tr>\n",
       "      <th>13</th>\n",
       "      <td>False</td>\n",
       "    </tr>\n",
       "  </tbody>\n",
       "</table>\n",
       "</div>"
      ],
      "text/plain": [
       "        0\n",
       "0   False\n",
       "1   False\n",
       "2   False\n",
       "3   False\n",
       "4    True\n",
       "5    True\n",
       "6   False\n",
       "7    True\n",
       "8   False\n",
       "9    True\n",
       "10  False\n",
       "11  False\n",
       "12  False\n",
       "13  False"
      ]
     },
     "execution_count": 10,
     "metadata": {},
     "output_type": "execute_result"
    }
   ],
   "source": [
    "pd.DataFrame(has_positive_multiplier)"
   ]
  },
  {
   "cell_type": "code",
   "execution_count": 11,
   "id": "0edbebb4",
   "metadata": {},
   "outputs": [],
   "source": [
    "def compute_w(multipliers, X, y):\n",
    "    return np.sum(multipliers[i] * y[i] * X[i]\n",
    "                  for i in range(len(y)))"
   ]
  },
  {
   "cell_type": "code",
   "execution_count": 12,
   "id": "58fb95db",
   "metadata": {},
   "outputs": [],
   "source": [
    "%%capture --no-display\n",
    "w = compute_w(multipliers, X, y)\n",
    "w_from_sv = compute_w(sv_multipliers, support_vectors, support_vectors_y)\n",
    "\n",
    "print(w) \n",
    "print(w_from_sv) "
   ]
  },
  {
   "cell_type": "code",
   "execution_count": 13,
   "id": "19430d4e",
   "metadata": {},
   "outputs": [],
   "source": [
    "def compute_b(w, X, y):\n",
    "    return np.sum([y[i] - np.dot(w, X[i]) \n",
    "                   for i in range(len(X))])/len(X)\n"
   ]
  },
  {
   "cell_type": "code",
   "execution_count": 14,
   "id": "1f55ed84",
   "metadata": {
    "scrolled": true
   },
   "outputs": [
    {
     "name": "stdout",
     "output_type": "stream",
     "text": [
      "-9.666666925153795\n"
     ]
    }
   ],
   "source": [
    "b = compute_b(w, support_vectors, support_vectors_y)\n",
    "print(b)"
   ]
  },
  {
   "cell_type": "code",
   "execution_count": 15,
   "id": "b437cb7e",
   "metadata": {},
   "outputs": [
    {
     "data": {
      "text/plain": [
       "<matplotlib.collections.PathCollection at 0x1b10d3a23a0>"
      ]
     },
     "execution_count": 15,
     "metadata": {},
     "output_type": "execute_result"
    },
    {
     "data": {
      "image/png": "[encoded data removed]",
      "text/plain": [
       "<Figure size 432x288 with 1 Axes>"
      ]
     },
     "metadata": {
      "needs_background": "light"
     },
     "output_type": "display_data"
    }
   ],
   "source": [
    "import matplotlib.pyplot as plt\n",
    "z = np.linspace(0, 10, 100)\n",
    "g = ((-(0.44444446 /1.11111114))*z)-(b/1.11111114)\n",
    "plt.scatter(X[:, 0], X[:, 1], c=y )\n",
    "plt.scatter(z, g)"
   ]
  }
 ],
 "metadata": {
  "kernelspec": {
   "display_name": "Python 3 (ipykernel)",
   "language": "python",
   "name": "python3"
  },
  "language_info": {
   "codemirror_mode": {
    "name": "ipython",
    "version": 3
   },
   "file_extension": ".py",
   "mimetype": "text/x-python",
   "name": "python",
   "nbconvert_exporter": "python",
   "pygments_lexer": "ipython3",
   "version": "3.8.0"
  }
 },
 "nbformat": 4,
 "nbformat_minor": 5
}
